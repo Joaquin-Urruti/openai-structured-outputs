{
 "cells": [
  {
   "cell_type": "code",
   "execution_count": 41,
   "metadata": {},
   "outputs": [],
   "source": [
    "import os\n",
    "import pandas as pd\n",
    "import openai\n",
    "from openai import OpenAI, beta\n",
    "import sys\n",
    "import json\n",
    "import pprint\n",
    "\n",
    "sys.path.append(os.path.abspath(\"..\"))\n",
    "from src import config\n",
    "\n",
    "from dotenv import load_dotenv\n",
    "load_dotenv()\n",
    "\n",
    "client = OpenAI(\n",
    "  api_key=os.getenv('OPENAI_API_KEY')\n",
    ")\n",
    "\n",
    "from docling.document_converter import DocumentConverter"
   ]
  },
  {
   "cell_type": "markdown",
   "metadata": {},
   "source": [
    "## El problema que falta resolver es vincular las facturas con el comprobante previo que corresponda:\n",
    "- arrendamientos: cuota arr cargada en albor\n",
    "- fletes: con carta de porte\n",
    "- labores: con OT\n",
    "- gastos vehiculos: con patente del vehiculo\n",
    "- gastos comerciales: tipo servicio (ej: sellado, comisión, etc.)"
   ]
  },
  {
   "cell_type": "code",
   "execution_count": 24,
   "metadata": {},
   "outputs": [],
   "source": [
    "from pydantic import BaseModel\n",
    "from typing import Optional\n",
    "\n",
    "from pydantic import BaseModel\n",
    "from typing import Optional, List\n",
    "\n",
    "class InvoiceItem(BaseModel):\n",
    "    codigo: str\n",
    "    descripcion: str\n",
    "    unidad_medida: str\n",
    "    cantidad: float\n",
    "    precio_unitario: float\n",
    "    importe: float\n",
    "    remito: Optional[str] = None\n",
    "    mes_servicio: Optional[str] = None\n",
    "\n",
    "class InvoiceTax(BaseModel):\n",
    "    concepto: str\n",
    "    base_imponible: Optional[float] = None\n",
    "    impuesto: str\n",
    "    monto_impuesto: Optional[float] = None\n",
    "    total: float\n",
    "\n",
    "class Invoice(BaseModel):\n",
    "    tipo: str  # Factura Original o Duplicado\n",
    "    numero: str\n",
    "    fecha: str\n",
    "    cuit_emisor: str\n",
    "    dgr_inscripto: str\n",
    "    inicio_actividad: str\n",
    "    razon_social_cliente: str\n",
    "    categoria_iva_cliente: str\n",
    "    domicilio_cliente: str\n",
    "    cuit_cliente: str\n",
    "    codigo_cliente: str\n",
    "    condicion_venta: str\n",
    "    pedido: str\n",
    "    vendedor: str\n",
    "    deposito: str\n",
    "    moneda: str\n",
    "    tipo_cambio: float\n",
    "    items: List[InvoiceItem]\n",
    "    impuestos: List[InvoiceTax]\n",
    "    subtotal: float\n",
    "    total: float\n",
    "    observaciones: Optional[str] = None\n",
    "    cae: str\n",
    "    vencimiento_cae: str\n",
    "    codigo_barras: str\n",
    "\n",
    "class Invoices(BaseModel):\n",
    "    invoices: list[Invoice] "
   ]
  },
  {
   "cell_type": "code",
   "execution_count": 43,
   "metadata": {},
   "outputs": [],
   "source": [
    "root_dir = config.EXTERNAL_DATA_DIR"
   ]
  },
  {
   "cell_type": "code",
   "execution_count": null,
   "metadata": {},
   "outputs": [],
   "source": [
    "file_list = []\n",
    "\n",
    "for root, dirs, files in os.walk(root_dir):\n",
    "    for file in files:\n",
    "        if file.endswith('.pdf'):\n",
    "            file_path = os.path.join(root, file)\n",
    "            print(file_path)\n",
    "            file_list.append(file_path)"
   ]
  },
  {
   "cell_type": "code",
   "execution_count": 27,
   "metadata": {},
   "outputs": [],
   "source": [
    "query = \"Eres un prolijo y laborioso data entry, que extae muy detalladamente los datos de las facturas, para pasarlos a una tabla con el formato dado.\""
   ]
  },
  {
   "cell_type": "code",
   "execution_count": null,
   "metadata": {},
   "outputs": [],
   "source": [
    "processed = []\n",
    "dfs = []\n",
    "\n",
    "for file_path in file_list:\n",
    "    if file_path.endswith('.pdf'):\n",
    "        print(f'Processing {file_path}')\n",
    "\n",
    "        try:\n",
    "            source = file_path # document per local path or URL\n",
    "            converter = DocumentConverter()\n",
    "            result = converter.convert(source)\n",
    "            result_text = result.document.export_to_markdown()\n",
    "        \n",
    "        except Exception as e:\n",
    "            print(f'Not processed: {file_path} - error: {e}')\n",
    "            continue\n",
    "\n",
    "        try:\n",
    "            response = beta.chat.completions.parse(\n",
    "                model=\"gpt-4o-mini-2024-07-18\",\n",
    "                messages=[\n",
    "                    {\n",
    "                        \"role\": \"user\",\n",
    "                        \"content\": f\"Los datos del archivo {file} están en formato markdown:\\n{result_text}\\n\\nPregunta: {query}\"\n",
    "                    }\n",
    "                ],\n",
    "                temperature=0,\n",
    "                max_tokens=15000,\n",
    "                response_format=Invoice,\n",
    "                top_p=1\n",
    "            )\n",
    "\n",
    "            # Extract the content from the response\n",
    "            json_content = response.choices[0].message.content  # Accessing the attribute\n",
    "\n",
    "            data = json.loads(json_content)\n",
    "\n",
    "            print(data)\n",
    "\n",
    "            # Convert to DataFrame\n",
    "            df = pd.DataFrame(data)\n",
    "\n",
    "            df['root'] = f'{root}'\n",
    "            df['file'] = f'{file}'\n",
    "\n",
    "            dfs.append(df)\n",
    "\n",
    "            processed.append(file_path)\n",
    "\n",
    "        except Exception as e:\n",
    "            print(e)\n",
    "\n",
    "if len(dfs) > 0:\n",
    "    final_df = pd.concat(dfs)\n",
    "else:\n",
    "    final_df = pd.DataFrame()\n",
    "    print('No dfs to concat')\n",
    "    pass"
   ]
  },
  {
   "cell_type": "code",
   "execution_count": 31,
   "metadata": {},
   "outputs": [],
   "source": [
    "# final_df"
   ]
  },
  {
   "cell_type": "code",
   "execution_count": 30,
   "metadata": {},
   "outputs": [],
   "source": [
    "final_df.to_excel(f'{root_dir}/data_extraida.xlsx')"
   ]
  }
 ],
 "metadata": {
  "kernelspec": {
   "display_name": "openai",
   "language": "python",
   "name": "python3"
  },
  "language_info": {
   "codemirror_mode": {
    "name": "ipython",
    "version": 3
   },
   "file_extension": ".py",
   "mimetype": "text/x-python",
   "name": "python",
   "nbconvert_exporter": "python",
   "pygments_lexer": "ipython3",
   "version": "3.10.16"
  }
 },
 "nbformat": 4,
 "nbformat_minor": 2
}
